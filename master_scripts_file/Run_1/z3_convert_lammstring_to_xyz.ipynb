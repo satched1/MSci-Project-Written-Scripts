{
 "cells": [
  {
   "cell_type": "code",
   "execution_count": 1,
   "metadata": {},
   "outputs": [
    {
     "name": "stderr",
     "output_type": "stream",
     "text": [
      "c:\\Users\\domin\\anaconda3\\envs\\stk1\\Lib\\site-packages\\tqdm\\auto.py:21: TqdmWarning: IProgress not found. Please update jupyter and ipywidgets. See https://ipywidgets.readthedocs.io/en/stable/user_install.html\n",
      "  from .autonotebook import tqdm as notebook_tqdm\n"
     ]
    }
   ],
   "source": [
    "# import libraries\n",
    "\n",
    "import MDAnalysis as mda"
   ]
  },
  {
   "cell_type": "code",
   "execution_count": 2,
   "metadata": {},
   "outputs": [],
   "source": [
    "def extract_atom_types(file_name, atomic_masses):\n",
    "    '''\n",
    "    Defines a mapping from LAMMPS atom types to chemical atom names from input LAMMPS .data file\n",
    "    \n",
    "    Inputs:\n",
    "    file_name (str): path to the file\n",
    "    atomic_masses (dict): dictionary contaning mass information for each chemical atom\n",
    "\n",
    "    Returns:\n",
    "    type_to_name (dict): dictionary mapping LAMMPS atom types to chemical atom name\n",
    "    '''\n",
    "    type_to_name = {}\n",
    "    \n",
    "    # open LAMMPS data file and read lines\n",
    "    with open(file_name, 'r') as file:\n",
    "        lines = file.readlines()\n",
    "\n",
    "    # finding indexes for beginning and end of masses section of input .data file\n",
    "    for i in range(len(lines)):\n",
    "        if 'Masses' in lines[i]:\n",
    "            masses_start = i +2\n",
    "            break\n",
    "    for i in range(masses_start, len(lines)):\n",
    "        if lines[i].strip() == '':\n",
    "            masses_end = i\n",
    "            break\n",
    "\n",
    "    # locate masses section in file and extract type to mass data\n",
    "    for line in lines[masses_start:masses_end]:\n",
    "        line = line.split()\n",
    "        atom_type = int(line[0])  # LAMMPS atom type number\n",
    "        mass = float(line[1])  # LAMMPS mass\n",
    "\n",
    "        # calculate mass differences between atomic_mass dictionary and LAMMPS mass to assign each LAMMPS atom type to a chemical atom name\n",
    "        closest_mass = None\n",
    "        smallest_difference = 100 # set high initial mass difference\n",
    "        for atomic_mass in atomic_masses:\n",
    "            offset = abs(atomic_mass - mass)\n",
    "            if offset < smallest_difference:\n",
    "                smallest_difference = offset\n",
    "                closest_mass = atomic_mass\n",
    "        element = closest_mass\n",
    "        \n",
    "        type_to_name[atom_type] = atomic_masses[element] # update type_to_name dictionary\n",
    "\n",
    "    return type_to_name"
   ]
  },
  {
   "cell_type": "code",
   "execution_count": 3,
   "metadata": {},
   "outputs": [],
   "source": [
    "# atomic mass dictionary for elements, update if working with additional elements\n",
    "atomic_masses = {\n",
    "    1.008: 'H', 12.011: 'C', 14.007: 'N', 15.999: 'O', \n",
    "    32.065: 'S', 35.453: 'Cl'\n",
    "}\n",
    "\n",
    "# Define a mapping from atom types to names, using the 'extract_atom_types' function\n",
    "type_to_name = extract_atom_types(\"lammps_files/lammps_input_data.data\", atomic_masses)\n",
    "\n",
    "# Load the system to MDanalysis universe\n",
    "u = mda.Universe(\"lammps_files/lammps_input_data.data\", \"lammps_files/lammps_output_lammpstrj.lammpstrj\", format=\"LAMMPSDUMP\", lammps_coordinate_convention=\"scaled\", dt=1)\n",
    "\n",
    "# define number of atoms in the cage\n",
    "no_atoms_in_cage = len(u.select_atoms(\"resid 1\"))"
   ]
  },
  {
   "cell_type": "code",
   "execution_count": 4,
   "metadata": {},
   "outputs": [],
   "source": [
    "#code to extract all atoms to .xyz file, in an unwrapped format\n",
    "\n",
    "with open('data_storage/data_all_atoms_unwrapped.xyz', 'w') as f:\n",
    "    for ts in u.trajectory:  # loop through all timesteps\n",
    "        u.atoms.unwrap(compound=\"residues\")  # unwrap coordinates at the residue level (whole molecules)\n",
    "\n",
    "        f.write(f\"{u.atoms.n_atoms}\\n\") # write number of atoms\n",
    "        f.write(f\"frame {ts.frame}\\n\") # write comment line (frame number)\n",
    "\n",
    "        # loop through each atom in the system, writing atom name and unwrapped coordinates to file\n",
    "        for atom in u.atoms:\n",
    "            atom_type = atom.type\n",
    "            atom_name = type_to_name[int(atom_type)]\n",
    "            x, y, z = atom.position\n",
    "            f.write(f\"{atom_name} {x:.3f} {y:.3f} {z:.3f}\\n\")"
   ]
  },
  {
   "cell_type": "code",
   "execution_count": 5,
   "metadata": {},
   "outputs": [],
   "source": [
    "#code to extract only cage atoms to .xyz file, in an unwrapped format\n",
    "\n",
    "cage_atoms = u.select_atoms(\"resid 1\")\n",
    "\n",
    "with open('data_storage/data_cage_only_unwrapped.xyz', 'w') as f:\n",
    "    for ts in u.trajectory:  # loop through all timesteps\n",
    "\n",
    "        # obtain indices of cage atoms and create atom group based on these indices\n",
    "        selected_atoms_indices = [atom.index for atom in cage_atoms]\n",
    "        selected_atoms_group = u.atoms[selected_atoms_indices]\n",
    "        # unwrap coordinates at residue level (whole molecules)\n",
    "        selected_atoms_group.unwrap(compound=\"residues\")\n",
    "\n",
    "        f.write(f\"{len(selected_atoms_group)}\\n\")  # write number of cage atoms\n",
    "        f.write(f\"frame {ts.frame}\\n\") # write comment line (frame number)\n",
    "\n",
    "        # loop through each cage atom, writing atom name and unwrapped coordinates to file\n",
    "        for atom in selected_atoms_group:\n",
    "            atom_type = atom.type\n",
    "            atom_name = type_to_name[int(atom_type)]\n",
    "            x, y, z = atom.position\n",
    "            f.write(f\"{atom_name} {x:.3f} {y:.3f} {z:.3f}\\n\")"
   ]
  },
  {
   "cell_type": "code",
   "execution_count": 6,
   "metadata": {},
   "outputs": [],
   "source": [
    "#code to extract only solvent atoms to .xyz file, in an unwrapped format\n",
    "\n",
    "solvent_atoms = u.select_atoms(\"not resid 1\")\n",
    "\n",
    "with open('data_storage/data_solvent_only_unwrapped.xyz', 'w') as f:\n",
    "    for ts in u.trajectory:  # loop through all timesteps\n",
    "\n",
    "        # obtain indices of solvent atoms and create atom group based on these indices\n",
    "        selected_atoms_indices = [atom.index for atom in solvent_atoms]\n",
    "        selected_atoms_group = u.atoms[selected_atoms_indices]\n",
    "        # unwrap coordinates at residue level (whole molecules)\n",
    "        selected_atoms_group.unwrap(compound=\"residues\")\n",
    "\n",
    "        f.write(f\"{len(selected_atoms_group)}\\n\")  # write number of solvent atoms\n",
    "        f.write(f\"frame {ts.frame}\\n\") # write comment line (frame number)\n",
    "\n",
    "        # loop through each solvent atom, writing atom name and unwrapped coordinates to file\n",
    "        for atom in selected_atoms_group:\n",
    "            atom_type = atom.type\n",
    "            atom_name = type_to_name[int(atom_type)]\n",
    "            x, y, z = atom.position\n",
    "            f.write(f\"{atom_name} {x:.3f} {y:.3f} {z:.3f}\\n\")"
   ]
  },
  {
   "cell_type": "markdown",
   "metadata": {},
   "source": [
    "The remaining code allows for writing of coordinates to .xyz files in a wrapped format (as outputted by lammps). This means the cage can be split over a periodic boundary condition in any given frame."
   ]
  },
  {
   "cell_type": "code",
   "execution_count": 7,
   "metadata": {},
   "outputs": [],
   "source": [
    "#code to extract all atoms to .xyz file, in a direct, wrapped format\n",
    "\n",
    "with open('data_storage/data_all_atoms_wrapped.xyz', 'w') as f:\n",
    "    for ts in u.trajectory: # loop through all timesteps\n",
    "\n",
    "        f.write(f\"{u.atoms.n_atoms}\\n\") # write number of atoms\n",
    "        f.write(f\"frame {ts.frame}\\n\") # write comment line (frame number)\n",
    "        \n",
    "        # loop through each atom, writing atom name and unwrapped coordinates to file\n",
    "        for atom in u.atoms:\n",
    "            atom_type = atom.type\n",
    "            atom_name = type_to_name[int(atom_type)]\n",
    "            x, y, z = atom.position\n",
    "            f.write(f\"{atom_name} {x:.3f} {y:.3f} {z:.3f}\\n\")"
   ]
  },
  {
   "cell_type": "code",
   "execution_count": 8,
   "metadata": {},
   "outputs": [],
   "source": [
    "#code to extract only cage atoms to .xyz file, in a direct, wrapped format\n",
    "\n",
    "with open('data_storage/data_cage_only_wrapped.xyz', 'w') as f:\n",
    "    for ts in u.trajectory:  # loop through all timesteps\n",
    "\n",
    "        # create atom group for cage atoms\n",
    "        selected_atoms = [atom for atom in u.atoms if 1 <= atom.id <= no_atoms_in_cage]\n",
    "\n",
    "        f.write(f\"{len(selected_atoms)}\\n\")  # write number of cage atoms\n",
    "        f.write(f\"frame {ts.frame}\\n\") # write comment line (frame number)\n",
    "        \n",
    "        # loop through each cage atom, writing atom name and unwrapped coordinates to file\n",
    "        for atom in selected_atoms:\n",
    "            atom_type = atom.type\n",
    "            atom_name = type_to_name[int(atom_type)]\n",
    "            x, y, z = atom.position\n",
    "            f.write(f\"{atom_name} {x:.3f} {y:.3f} {z:.3f}\\n\")"
   ]
  },
  {
   "cell_type": "code",
   "execution_count": 9,
   "metadata": {},
   "outputs": [],
   "source": [
    "#code to extract only solvent atoms to .xyz file, in a direct, wrapped format\n",
    "\n",
    "with open('data_storage/data_solvent_only_wrapped.xyz', 'w') as f:\n",
    "    for ts in u.trajectory:  # loop through all timesteps\n",
    "\n",
    "        # create atom group for solvent atoms\n",
    "        selected_atoms = [atom for atom in u.atoms if atom.id > no_atoms_in_cage]\n",
    "\n",
    "        f.write(f\"{len(selected_atoms)}\\n\") # write number of solvent atoms\n",
    "        f.write(f\"frame {ts.frame}\\n\") # write comment line (frame number)\n",
    "        \n",
    "        # loop through each solvent atom, writing atom name and unwrapped coordinates to file\n",
    "        for atom in selected_atoms:\n",
    "            atom_type = atom.type\n",
    "            atom_name = type_to_name[int(atom_type)]\n",
    "            x, y, z = atom.position\n",
    "            f.write(f\"{atom_name} {x:.3f} {y:.3f} {z:.3f}\\n\")"
   ]
  },
  {
   "cell_type": "code",
   "execution_count": null,
   "metadata": {},
   "outputs": [],
   "source": []
  }
 ],
 "metadata": {
  "kernelspec": {
   "display_name": "stk1",
   "language": "python",
   "name": "python3"
  },
  "language_info": {
   "codemirror_mode": {
    "name": "ipython",
    "version": 3
   },
   "file_extension": ".py",
   "mimetype": "text/x-python",
   "name": "python",
   "nbconvert_exporter": "python",
   "pygments_lexer": "ipython3",
   "version": "3.11.10"
  }
 },
 "nbformat": 4,
 "nbformat_minor": 2
}
