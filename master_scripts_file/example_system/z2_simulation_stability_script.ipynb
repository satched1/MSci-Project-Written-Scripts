{
 "cells": [
  {
   "cell_type": "code",
   "execution_count": null,
   "metadata": {},
   "outputs": [],
   "source": [
    "# import libraries\n",
    "import numpy as np\n",
    "from pylab import *\n",
    "from scipy.ndimage import gaussian_filter1d"
   ]
  },
  {
   "cell_type": "code",
   "execution_count": null,
   "metadata": {},
   "outputs": [],
   "source": [
    "# Code to extract parameter information from the simulation output log file, storing the data in lists.\n",
    "# The full dataset is also printed\n",
    "\n",
    "# defining initial data lists to store data\n",
    "Step = []\n",
    "TotEng = []\n",
    "PotEng = []\n",
    "KinEng = []\n",
    "Temp = []\n",
    "Press = []\n",
    "Lx = []\n",
    "Ly = []\n",
    "Lz = []\n",
    "Volume = []\n",
    "Density = []\n",
    "\n",
    "# loop through log file to extract data\n",
    "with open('lammps_files/log.logfile','r') as logfile:\n",
    "    line_count=0 # line counter\n",
    "    minimisation_exclusion = 0 # counter based condition to locate the correct dataset within the log file\n",
    "    condition = False # condition to help define the end of the dataset\n",
    "\n",
    "    # loop through each line\n",
    "    for line in logfile:\n",
    "        line_count=line_count+1 # updating line counter\n",
    "\n",
    "        if 'Step' and 'TotEng' and 'PotEng' in line: # defining condition where dataset could be\n",
    "            minimisation_exclusion = minimisation_exclusion + 1 # first occurance is during simulation minimisation, not the actual dataset\n",
    "            \n",
    "            if minimisation_exclusion == 2: # second occurance is the correct dataset location\n",
    "                parameters = line.split() # splitting the line\n",
    "                # obtaining the index of each parameter in the dataset (aka column number)\n",
    "                Step_index = parameters.index('Step')\n",
    "                TotEng_index = parameters.index('TotEng')\n",
    "                PotEng_index = parameters.index('PotEng')\n",
    "                KinEng_index = parameters.index('KinEng')\n",
    "                Temp_index = parameters.index('Temp')\n",
    "                Press_index = parameters.index('Press')\n",
    "                Lx_index = parameters.index('Lx')\n",
    "                Ly_index = parameters.index('Ly')\n",
    "                Lz_index = parameters.index('Lz')\n",
    "                Volume_index = parameters.index('Volume')\n",
    "                Density_index = parameters.index('Density')\n",
    "\n",
    "        # defining condition to locate the end of the dataset\n",
    "        if minimisation_exclusion == 2 and condition == False:\n",
    "                if line.split()[0] == 'Loop':\n",
    "                    condition = True # updating condition to True once the dataset has ended\n",
    "                \n",
    "        # after dataset is located, screen between beginning and end of dataset\n",
    "        if minimisation_exclusion == 2 and condition == False:\n",
    "                # store data in relevant list\n",
    "                split_line = line.split()\n",
    "                Step.extend([split_line[(Step_index)]])\n",
    "                TotEng.extend([split_line[TotEng_index]])\n",
    "                PotEng.extend([split_line[PotEng_index]])\n",
    "                KinEng.extend([split_line[KinEng_index]])\n",
    "                Temp.extend([split_line[Temp_index]])\n",
    "                Press.extend([split_line[Press_index]])\n",
    "                Lx.extend([split_line[Lx_index]])\n",
    "                Ly.extend([split_line[Ly_index]])\n",
    "                Lz.extend([split_line[Lz_index]])\n",
    "                Volume.extend([split_line[Volume_index]])\n",
    "                Density.extend([split_line[Density_index]])\n",
    "\n",
    "                print(line) # printing out the entire dataset\n",
    "\n",
    "# converting parameter data from a list of strings to a list of floats for easier plotting\n",
    "Step = [float(i) for i in Step[1:]]\n",
    "TotEng = [float(i) for i in TotEng[1:]]\n",
    "PotEng = [float(i) for i in PotEng[1:]]\n",
    "KinEng = [float(i) for i in KinEng[1:]]\n",
    "Temp = [float(i) for i in Temp[1:]]\n",
    "Press = [float(i) for i in Press[1:]]\n",
    "Lx = [float(i) for i in Lx[1:]]\n",
    "Ly = [float(i) for i in Ly[1:]]\n",
    "Lz = [float(i) for i in Lz[1:]]\n",
    "Volume = [float(i) for i in Volume[1:]]\n",
    "Density = [float(i) for i in Density[1:]]\n",
    "\n",
    "# for plotting, convert step list to list containing x axis times in ns\n",
    "time_data = list(np.array(Step)/1000000)"
   ]
  },
  {
   "cell_type": "markdown",
   "metadata": {},
   "source": [
    "The below code boxes all plot graphs of the given parameter Vs time. The first two frames of the simulation (0.1 ns) is not plotted as these points are at the beginning of the simulation, where initial equilibration means that values are typically extreme."
   ]
  },
  {
   "cell_type": "code",
   "execution_count": null,
   "metadata": {},
   "outputs": [],
   "source": [
    "figure(figsize=[10,6],dpi=300)\n",
    "TotEng_smooth = gaussian_filter1d(TotEng[2:], sigma=5)  # Increase sigma for more smoothing\n",
    "plot(time_data[2:], TotEng[2:], linestyle='-', marker='x',linewidth=0.6, markersize=4, label = 'Raw Data') # plot raw data\n",
    "plot(time_data[2:], TotEng_smooth, linewidth=1, color='red', label='Smoothed Curve') # plot gausian smoothed curve\n",
    "title('Total Energy Vs Time', fontsize=15)\n",
    "xlabel(\"Time (ns)\", fontsize=15)\n",
    "ylabel(r'Total Energy (kcal mol$^{-1}$)',fontsize=15)\n",
    "legend()\n",
    "show()"
   ]
  },
  {
   "cell_type": "code",
   "execution_count": null,
   "metadata": {},
   "outputs": [],
   "source": [
    "figure(figsize=[10,6],dpi=300)\n",
    "PotEng_smooth = gaussian_filter1d(PotEng[2:], sigma=5)  # Increase sigma for more smoothing\n",
    "plot(time_data[2:], PotEng[2:], linestyle='-', marker='x',linewidth=0.6, markersize=4, label = 'Raw Data') # plot raw data\n",
    "plot(time_data[2:], PotEng_smooth, linewidth=1, color='red', label='Smoothed Curve') # plot gausian smoothed curve\n",
    "title('Potential Energy Vs Time',fontsize=15)\n",
    "xlabel(\"Time (ns)\", fontsize=15)\n",
    "ylabel(r'Potential Energy (kcal mol$^{-1}$)',fontsize=15)\n",
    "legend()\n",
    "show()"
   ]
  },
  {
   "cell_type": "code",
   "execution_count": null,
   "metadata": {},
   "outputs": [],
   "source": [
    "figure(figsize=[10,6],dpi=300)\n",
    "KinEng_smooth = gaussian_filter1d(KinEng[2:], sigma=5)  # Increase sigma for more smoothing\n",
    "plot(time_data[2:], KinEng[2:], linestyle='-', marker='x',linewidth=0.6, markersize=4, label = 'Raw Data') # plot raw data\n",
    "plot(time_data[2:], KinEng_smooth, linewidth=1, color='red', label='Smoothed Curve') # plot gausian smoothed curve\n",
    "title('Kinetic Energy Vs Time',fontsize=15)\n",
    "xlabel(\"Time (ns)\", fontsize=15)\n",
    "ylabel(r'Kinetic Energy (kcal mol$^{-1}$)',fontsize=15)\n",
    "legend()\n",
    "show()"
   ]
  },
  {
   "cell_type": "code",
   "execution_count": null,
   "metadata": {},
   "outputs": [],
   "source": [
    "figure(figsize=[10,6],dpi=300)\n",
    "Temp_smooth = gaussian_filter1d(Temp[2:], sigma=5)  # Increase sigma for more smoothing\n",
    "plot(time_data[2:], Temp[2:], linestyle='-', marker='x',linewidth=0.6, markersize=4, label = 'Raw Data') # plot raw data\n",
    "plot(time_data[2:], Temp_smooth, linewidth=1, color='red', label='Smoothed Curve') # plot gausian smoothed curve\n",
    "title('Temperature Vs Time',fontsize=15)\n",
    "xlabel(\"Time (ns)\", fontsize=15)\n",
    "ylabel(\"Temperature (K)\", fontsize=15)\n",
    "legend()\n",
    "show()"
   ]
  },
  {
   "cell_type": "code",
   "execution_count": null,
   "metadata": {},
   "outputs": [],
   "source": [
    "figure(figsize=[10,6],dpi=300)\n",
    "Press_smooth = gaussian_filter1d(Press[2:], sigma=5)  # Increase sigma for more smoothing\n",
    "plot(time_data[2:], Press[2:], linestyle='-', marker='x',linewidth=0.6, markersize=4, label = 'Raw Data') # plot raw data\n",
    "plot(time_data[2:], Press_smooth, linewidth=1, color='red', label='Smoothed Curve') # plot gausian smoothed curve\n",
    "title('Pressure Vs Time',fontsize=15)\n",
    "xlabel(\"Time (ns)\", fontsize=15)\n",
    "ylabel(\"Pressure (atm)\", fontsize=15)\n",
    "legend()\n",
    "show()"
   ]
  },
  {
   "cell_type": "code",
   "execution_count": null,
   "metadata": {},
   "outputs": [],
   "source": [
    "figure(figsize=[10,6],dpi=300)\n",
    "Lx_smooth = gaussian_filter1d(Lx[2:], sigma=5)  # Increase sigma for more smoothing\n",
    "plot(time_data[2:], Lx[2:], linestyle='-', marker='x',linewidth=0.6, markersize=4, label = 'Raw Data') # plot raw data\n",
    "plot(time_data[2:], Lx_smooth, linewidth=1, color='red', label='Smoothed Curve') # plot gausian smoothed curve\n",
    "title('Lx Vs Time',fontsize=15)\n",
    "xlabel(\"Time (ns)\", fontsize=15)\n",
    "ylabel(\"Lx (Å)\",fontsize=15)\n",
    "legend()\n",
    "show()"
   ]
  },
  {
   "cell_type": "code",
   "execution_count": null,
   "metadata": {},
   "outputs": [],
   "source": [
    "figure(figsize=[10,6],dpi=300)\n",
    "Ly_smooth = gaussian_filter1d(Ly[2:], sigma=5)  # Increase sigma for more smoothing\n",
    "plot(time_data[2:], Ly[2:], linestyle='-', marker='x',linewidth=0.6, markersize=4, label = 'Raw Data') # plot raw data\n",
    "plot(time_data[2:], Ly_smooth, linewidth=1, color='red', label='Smoothed Curve') # plot gausian smoothed curve\n",
    "title('Ly Vs Time',fontsize=15)\n",
    "xlabel(\"Time (ns)\", fontsize=15)\n",
    "ylabel(\"Ly (Å)\",fontsize=15)\n",
    "legend()\n",
    "show()"
   ]
  },
  {
   "cell_type": "code",
   "execution_count": null,
   "metadata": {},
   "outputs": [],
   "source": [
    "figure(figsize=[10,6],dpi=300)\n",
    "Lz_smooth = gaussian_filter1d(Lz[2:], sigma=5)  # Increase sigma for more smoothing\n",
    "plot(time_data[2:], Lz[2:], linestyle='-', marker='x',linewidth=0.6, markersize=4, label = 'Raw Data') # plot raw data\n",
    "plot(time_data[2:], Lz_smooth, linewidth=1, color='red', label='Smoothed Curve') # plot gausian smoothed curve\n",
    "title('Lz Vs Time',fontsize=15)\n",
    "xlabel(\"Time (ns)\", fontsize=15)\n",
    "ylabel(\"Lz (Å)\",fontsize=15)\n",
    "legend()\n",
    "show()"
   ]
  },
  {
   "cell_type": "code",
   "execution_count": null,
   "metadata": {},
   "outputs": [],
   "source": [
    "figure(figsize=[10,6],dpi=300)\n",
    "Volume_smooth = gaussian_filter1d(Volume[2:], sigma=5)  # Increase sigma for more smoothing\n",
    "plot(time_data[2:], Volume[2:], linestyle='-', marker='x',linewidth=0.6, markersize=4, label = 'Raw Data') # plot raw data\n",
    "plot(time_data[2:], Volume_smooth, linewidth=1, color='red', label='Smoothed Curve') # plot gausian smoothed curve\n",
    "title('Volume Vs Time',fontsize=15)\n",
    "xlabel(\"Time (ns)\", fontsize=15)\n",
    "ylabel(r'Volume (Å$^{3}$)',fontsize=15)\n",
    "legend()\n",
    "show()"
   ]
  },
  {
   "cell_type": "code",
   "execution_count": null,
   "metadata": {},
   "outputs": [],
   "source": [
    "figure(figsize=[10,6],dpi=300)\n",
    "Density_smooth = gaussian_filter1d(Density[2:], sigma=5)  # Increase sigma for more smoothing\n",
    "plot(time_data[2:], Density[2:], linestyle='-', marker='x',linewidth=0.6, markersize=4, label = 'Raw Data') # plot raw data\n",
    "plot(time_data[2:], Density_smooth, linewidth=1, color='red', label='Smoothed Curve') # plot gausian smoothed curve\n",
    "title('Density Vs Time',fontsize=15)\n",
    "xlabel(\"Time (ns)\", fontsize=15)\n",
    "ylabel(r'Density (g Å$^{-3}$)',fontsize=15)\n",
    "legend()\n",
    "show()"
   ]
  },
  {
   "cell_type": "code",
   "execution_count": null,
   "metadata": {},
   "outputs": [],
   "source": []
  }
 ],
 "metadata": {
  "kernelspec": {
   "display_name": "stk1",
   "language": "python",
   "name": "python3"
  },
  "language_info": {
   "codemirror_mode": {
    "name": "ipython",
    "version": 3
   },
   "file_extension": ".py",
   "mimetype": "text/x-python",
   "name": "python",
   "nbconvert_exporter": "python",
   "pygments_lexer": "ipython3",
   "version": "3.11.10"
  }
 },
 "nbformat": 4,
 "nbformat_minor": 2
}
