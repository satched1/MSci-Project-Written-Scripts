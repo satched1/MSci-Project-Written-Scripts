{
 "cells": [
  {
   "cell_type": "code",
   "execution_count": null,
   "metadata": {},
   "outputs": [],
   "source": [
    "# import libraries\n",
    "%pylab inline\n",
    "from scipy.ndimage import gaussian_filter1d"
   ]
  },
  {
   "cell_type": "code",
   "execution_count": null,
   "metadata": {},
   "outputs": [],
   "source": [
    "SPE_energies = [] # list to store the conformational energies for each frame\n",
    "\n",
    "# loop through the frames being evaluated\n",
    "for i in range(0,201,5):\n",
    "    line_count = 0 # variable to store a line counter\n",
    "    condition = False # set condition for desired line\n",
    "\n",
    "    # extract data from logfile\n",
    "    with open(f'lammps_output_files/log.logfile_frame_{i}','r') as file:\n",
    "        for line in file:\n",
    "            line_count = line_count + 1\n",
    "            if condition == True:\n",
    "                SPE_energies.append(float(line.split()[0])) # extract final energy result of optimisation\n",
    "                condition = False # reset condition to ensure only desired line is extracted\n",
    "            if 'Energy initial, next-to-last, final =' in line:\n",
    "                condition = True    \n",
    "print(SPE_energies)"
   ]
  },
  {
   "cell_type": "code",
   "execution_count": null,
   "metadata": {},
   "outputs": [],
   "source": [
    "no_frames = 200\n",
    "sim_length = 10\n",
    "frames = (np.array(range(0, no_frames+1, 5)) / (no_frames/sim_length)).tolist()\n",
    "SPE_energies_smooth = gaussian_filter1d(SPE_energies[1:], sigma=3)  # Increase sigma for more smoothing\n",
    "figure, axes = plt.subplots(figsize=[10,6], dpi=300)\n",
    "\n",
    "plot(frames[1:], SPE_energies[1:], marker='x', markersize=4, linewidth=0.6, label='Raw Data') # plot raw data\n",
    "plot(frames[1:], SPE_energies_smooth, linewidth=1, color='red', label='Smoothed Curve') # plot gausian smoothed curve\n",
    "xlabel('Time (ns)',fontsize=15)\n",
    "ylabel(r'Single Point Energy (kcal mol$^{-1}$)',fontsize=15)\n",
    "\n",
    "axes.set_xticks([0,1,2,3,4,5,6,7,8,9,10]) # set x axis ticks\n",
    "y_min = floor(min(SPE_energies[1:]) / 5) * 5  # Round down to nearest 5\n",
    "y_max = ceil(max(SPE_energies[1:]) / 5) * 5   # Round up to nearest 5\n",
    "axes.set_yticks(arange(y_min, y_max+1, 5)) # set y axis ticks. increase 5 to larger number to increase tick separation\n",
    "\n",
    "legend()\n",
    "show()"
   ]
  },
  {
   "cell_type": "code",
   "execution_count": null,
   "metadata": {},
   "outputs": [],
   "source": []
  }
 ],
 "metadata": {
  "kernelspec": {
   "display_name": "Python 3",
   "language": "python",
   "name": "python3"
  },
  "language_info": {
   "codemirror_mode": {
    "name": "ipython",
    "version": 3
   },
   "file_extension": ".py",
   "mimetype": "text/x-python",
   "name": "python",
   "nbconvert_exporter": "python",
   "pygments_lexer": "ipython3",
   "version": "3.6.8"
  }
 },
 "nbformat": 4,
 "nbformat_minor": 2
}
