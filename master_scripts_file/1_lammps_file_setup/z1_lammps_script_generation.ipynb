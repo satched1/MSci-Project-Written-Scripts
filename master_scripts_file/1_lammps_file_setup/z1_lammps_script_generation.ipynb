{
 "cells": [
  {
   "cell_type": "markdown",
   "metadata": {},
   "source": [
    "Code below writes .in input files for lammps simulation. Update parameters as desired."
   ]
  },
  {
   "cell_type": "code",
   "execution_count": null,
   "metadata": {},
   "outputs": [],
   "source": [
    "%%writefile input.in\n",
    "\n",
    "log             log.logfile\n",
    "units           real\n",
    "atom_style      full\n",
    "dimension        3\n",
    "newton           on\n",
    "boundary        p p p\n",
    "\n",
    "\n",
    "bond_style hybrid harmonic\n",
    "angle_style hybrid harmonic\n",
    "dihedral_style hybrid fourier\n",
    "improper_style cvff\n",
    "special_bonds lj 0.0 0.0 0.5 coul 0.0 0.0 0.8333333333\n",
    "\n",
    "# Non-bonded interactions in Sage force field\n",
    "pair_style lj/cut/coul/long 9.0 9.0\n",
    "pair_modify mix arithmetic tail yes\n",
    "\n",
    "# Load the input system from .data file\n",
    "read_data lammps_files/lammps_input_data.data\n",
    "\n",
    "# Thermostat and velocity generation\n",
    "fix 3 all npt temp 298.0 298.0 100.0 iso 1.0 1.0 300.0\n",
    "velocity all create 298.0 1 rot yes dist gaussian # Change seed for repeat runs (eg from 1 to 2)\n",
    "\n",
    "# Output control\n",
    "dump lammpstrj_dump all atom 100 lammps_output_lammpstrj.lammpstrj\n",
    "thermo_style custom step etotal pe ke temp press lx ly lz vol density\n",
    "thermo 100\n",
    "\n",
    "# PME electrostatics in Sage force field\n",
    "kspace_style pppm 1e-5\n",
    "\n",
    "# Preliminary energy minimisation to bring atoms to a more sensible state\n",
    "minimize 1.0e-4 1.0e-6 100 1000 \n",
    "\n",
    "# Run for X steps at 1 fs δt, with velocity-verlet algorithm\n",
    "timestep 1\n",
    "run_style          verlet\n",
    "run 10000\n",
    "\n",
    "unfix 3\n",
    "\n",
    "# Output\n",
    "compute pe all pe/atom\n",
    "compute pair all pe/atom pair\n",
    "compute bond all pe/atom bond\n",
    "compute angle all pe/atom angle\n",
    "compute dihedral all pe/atom dihedral\n",
    "compute improper all pe/atom improper\n"
   ]
  },
  {
   "cell_type": "markdown",
   "metadata": {},
   "source": [
    "For short simulations, the simulation can run on a personal computer using the code box below. Otherwise, simulations should be submitted on the cluster via job submission files."
   ]
  },
  {
   "cell_type": "code",
   "execution_count": null,
   "metadata": {},
   "outputs": [],
   "source": [
    "#box to run the simulation\n",
    "!lmp < input.in"
   ]
  },
  {
   "cell_type": "code",
   "execution_count": null,
   "metadata": {},
   "outputs": [],
   "source": []
  }
 ],
 "metadata": {
  "kernelspec": {
   "display_name": "stk1",
   "language": "python",
   "name": "python3"
  },
  "language_info": {
   "codemirror_mode": {
    "name": "ipython",
    "version": 3
   },
   "file_extension": ".py",
   "mimetype": "text/x-python",
   "name": "python",
   "nbconvert_exporter": "python",
   "pygments_lexer": "ipython3",
   "version": "3.11.10"
  }
 },
 "nbformat": 4,
 "nbformat_minor": 2
}
